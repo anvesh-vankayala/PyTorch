{
  "nbformat": 4,
  "nbformat_minor": 0,
  "metadata": {
    "colab": {
      "provenance": [],
      "gpuType": "T4",
      "authorship_tag": "ABX9TyODYiMaC0F9UK8+vDEj2bi2",
      "include_colab_link": true
    },
    "kernelspec": {
      "name": "python3",
      "display_name": "Python 3"
    },
    "language_info": {
      "name": "python"
    },
    "accelerator": "GPU"
  },
  "cells": [
    {
      "cell_type": "markdown",
      "metadata": {
        "id": "view-in-github",
        "colab_type": "text"
      },
      "source": [
        "<a href=\"https://colab.research.google.com/github/anvesh-vankayala/PyTorch/blob/main/Tensors.ipynb\" target=\"_parent\"><img src=\"https://colab.research.google.com/assets/colab-badge.svg\" alt=\"Open In Colab\"/></a>"
      ]
    },
    {
      "cell_type": "code",
      "execution_count": null,
      "metadata": {
        "id": "SMfrY21OaToH",
        "colab": {
          "base_uri": "https://localhost:8080/",
          "height": 36
        },
        "outputId": "fde51a25-d79a-4b9c-f97d-89450bb82f12"
      },
      "outputs": [
        {
          "output_type": "execute_result",
          "data": {
            "text/plain": [
              "'2.1.0+cu121'"
            ],
            "application/vnd.google.colaboratory.intrinsic+json": {
              "type": "string"
            }
          },
          "metadata": {},
          "execution_count": 2
        }
      ],
      "source": [
        "import torch\n",
        "torch.__version__"
      ]
    },
    {
      "cell_type": "markdown",
      "source": [
        "**Scalar**"
      ],
      "metadata": {
        "id": "lfq9spUxdFti"
      }
    },
    {
      "cell_type": "code",
      "source": [
        "## Scalar is just a single number\n",
        "scalar = torch.tensor(7)\n",
        "print('n dimension : ', scalar.ndim)\n",
        "print('To retrive value from tensor : ', scalar.item())\n",
        "print('Just tensor : ' , scalar)"
      ],
      "metadata": {
        "colab": {
          "base_uri": "https://localhost:8080/"
        },
        "id": "RZl0Pk1qcae1",
        "outputId": "cc18dda6-5db9-48da-d2d2-aa04eeca0589"
      },
      "execution_count": null,
      "outputs": [
        {
          "output_type": "stream",
          "name": "stdout",
          "text": [
            "shape :  0\n",
            "To retrive value from tensor :  7\n",
            "Just tensor :  tensor(7)\n"
          ]
        }
      ]
    },
    {
      "cell_type": "markdown",
      "source": [
        "**Vector**"
      ],
      "metadata": {
        "id": "KL_xPk6ld_Nj"
      }
    },
    {
      "cell_type": "code",
      "source": [
        "## Vector is a single dimension tensor\n",
        "vector = torch.tensor([2,5,6])\n",
        "print('n dimension : ', vector.ndim)\n",
        "print('shape : ', vector.shape)\n",
        "#print('To retrive value from tensor : ', vector.item())\n",
        "print('Just tensor : ' , vector)\n",
        "\n",
        "print('---------------------')\n",
        "## Matrix\n",
        "matrix  = torch.tensor([[2,4,6],[3,7,8]])\n",
        "print('ndim', matrix.ndim)\n",
        "print('shape : ', matrix.shape)\n",
        "print('dtype : ', matrix.dtype)\n",
        "print('Just tensor : ' , matrix)\n",
        "\n",
        "print('---------------------')\n",
        "\n",
        "## Random tensor\n",
        "tensors = torch.rand(size=[3,4])\n",
        "print('ndim', tensors.ndim)\n",
        "print('dtype : ', tensors.dtype)\n",
        "print('shape : ', tensors.shape)\n",
        "print('Just tensor : ' , tensors)\n",
        "\n",
        "print('---------------------')\n",
        "## Random image tensor\n",
        "rand_img = torch.rand(size= (224,224,3))\n",
        "print('ndim', rand_img.ndim)\n",
        "print('Random image tensor shape : ', rand_img.shape)\n",
        "\n",
        "print('---------------------')"
      ],
      "metadata": {
        "colab": {
          "base_uri": "https://localhost:8080/"
        },
        "id": "uuG5GLtzdYe8",
        "outputId": "23ab2798-f696-4b8b-ccd9-27fc96b0eeb5"
      },
      "execution_count": null,
      "outputs": [
        {
          "output_type": "stream",
          "name": "stdout",
          "text": [
            "n dimension :  1\n",
            "shape :  torch.Size([3])\n",
            "Just tensor :  tensor([2, 5, 6])\n",
            "---------------------\n",
            "ndim 2\n",
            "shape :  torch.Size([2, 3])\n",
            "dtype :  torch.int64\n",
            "Just tensor :  tensor([[2, 4, 6],\n",
            "        [3, 7, 8]])\n",
            "---------------------\n",
            "ndim 2\n",
            "dtype :  torch.float32\n",
            "shape :  torch.Size([3, 4])\n",
            "Just tensor :  tensor([[0.1731, 0.0179, 0.1396, 0.7403],\n",
            "        [0.5782, 0.4061, 0.5233, 0.7060],\n",
            "        [0.9326, 0.0890, 0.6658, 0.5490]])\n",
            "---------------------\n",
            "ndim 3\n",
            "Random image tensor shape :  torch.Size([224, 224, 3])\n"
          ]
        }
      ]
    },
    {
      "cell_type": "markdown",
      "source": [
        "**Info from tensors**"
      ],
      "metadata": {
        "id": "sOl7aW_ojQdC"
      }
    },
    {
      "cell_type": "code",
      "source": [
        "tensor = torch.rand(size=[3,4])\n",
        "print(f'shape : {tensor.shape}')\n",
        "print(f'dtype : {tensor.dtype}')\n",
        "print(f'device : {tensor.device}')"
      ],
      "metadata": {
        "colab": {
          "base_uri": "https://localhost:8080/"
        },
        "id": "AC4jnodregLG",
        "outputId": "6ada52ee-89a6-4e08-f716-17ea1e15f3dd"
      },
      "execution_count": null,
      "outputs": [
        {
          "output_type": "stream",
          "name": "stdout",
          "text": [
            "shape : torch.Size([3, 4])\n",
            "dtype : torch.float32\n",
            "device : cpu\n"
          ]
        }
      ]
    },
    {
      "cell_type": "markdown",
      "source": [
        "**Manipulating** **tensors**"
      ],
      "metadata": {
        "id": "0_ow1yffkGCY"
      }
    },
    {
      "cell_type": "code",
      "source": [
        "## Addition\n",
        "\n",
        "tensor = torch.tensor([1,2,3])\n",
        "print(f'Addition : {tensor + 10}')\n",
        "print(f'Mutiplication : {tensor * 10}')\n",
        "print(f'subtraction : {tensor - 10}')\n",
        "print(f'Element wise multiplication : {tensor * tensor}')\n",
        "## Note : Tensor dosent get modified unless it is reassigned\n",
        "\n",
        "## Matrix multiplication\n",
        "## To work : this should have inner same inner diemension\n",
        "## ex shapes : If input is of shape (3,2)@(2,4) , then output would be of (3,3)\n",
        "\n",
        "print(f'Matrix multiplication : {torch.matmul(tensor,tensor)}')\n",
        "print(f'with @ Matrix multiplication : {tensor@tensor}')\n",
        "\n",
        "print('---------------------------')\n",
        "\n",
        "## Matrix transpose\n",
        "## If there is any issue with inner shape of tensor,  with this we can switch the shape of tensor.\n",
        "ran_tensor = torch.rand(4,5)\n",
        "print(f'shape {ran_tensor.shape}')\n",
        "print(f'Transposed tensor {ran_tensor.T.shape}')\n",
        "print(f'Matrix multiplication \\n {ran_tensor@ran_tensor.T} , of shape {(ran_tensor@ran_tensor.T).shape}')\n",
        "\n",
        "print('---------------------------')\n",
        "\n",
        "## as linear layer initiates with random weights, to reproduce result setting the seed.\n",
        "torch.manual_seed(42)\n",
        "\n",
        "linear = torch.nn.Linear(in_features = 2, out_features = 6)\n",
        "\n",
        "## Note : inner dimension of the in_feature should match with the input tensor\n",
        "x = torch.tensor([[1,2],[4,5],[6,7]] , dtype = torch.float32)\n",
        "print(f'Input tensor shape : {x.shape}')\n",
        "output = linear(x)\n",
        "print(f'Output tensor shape : {output.shape}')\n",
        "print(f'Output tensor : \\n {output}')\n",
        "\n",
        "print('---------------------------')\n",
        "\n",
        "## changing tensor data types\n",
        "tensor = torch.tensor([[2,4],[7,8]],dtype= torch.float16)\n",
        "print(f'data type {tensor.dtype}')\n",
        "print(f'data type changing {tensor.type(torch.float32).dtype}')\n",
        "\n",
        "print('---------------------------')\n",
        "\n"
      ],
      "metadata": {
        "colab": {
          "base_uri": "https://localhost:8080/"
        },
        "id": "UgXUGts9kJy8",
        "outputId": "67d9bbb5-b198-4c80-d8f0-f61feccc2709"
      },
      "execution_count": null,
      "outputs": [
        {
          "output_type": "stream",
          "name": "stdout",
          "text": [
            "Addition : tensor([11, 12, 13])\n",
            "Mutiplication : tensor([10, 20, 30])\n",
            "subtraction : tensor([-9, -8, -7])\n",
            "Element wise multiplication : tensor([1, 4, 9])\n",
            "Matrix multiplication : 14\n",
            "with @ Matrix multiplication : 14\n",
            "---------------------------\n",
            "shape torch.Size([4, 5])\n",
            "Transposed tensor torch.Size([5, 4])\n",
            "Matrix multiplication \n",
            " tensor([[0.8204, 0.5780, 0.7026, 1.1089],\n",
            "        [0.5780, 0.9439, 0.9158, 1.1262],\n",
            "        [0.7026, 0.9158, 1.9956, 1.9354],\n",
            "        [1.1089, 1.1262, 1.9354, 2.2598]]) , of shape torch.Size([4, 4])\n",
            "---------------------------\n",
            "Input tensor shape : torch.Size([3, 2])\n",
            "Output tensor shape : torch.Size([3, 6])\n",
            "Output tensor : \n",
            " tensor([[2.2368, 1.2292, 0.4714, 0.3864, 0.1309, 0.9838],\n",
            "        [5.6194, 2.6809, 0.4347, 0.5995, 0.4447, 3.2247],\n",
            "        [7.8744, 3.6487, 0.4102, 0.7415, 0.6539, 4.7186]],\n",
            "       grad_fn=<AddmmBackward0>)\n",
            "---------------------------\n",
            "data type torch.float16\n",
            "data type torch.float32\n"
          ]
        }
      ]
    },
    {
      "cell_type": "markdown",
      "source": [
        "**Reshaping/Stacking/Sqeezing/unsqeezing/view**"
      ],
      "metadata": {
        "id": "cnYGbS2ir3sX"
      }
    },
    {
      "cell_type": "code",
      "source": [
        "import torch\n",
        "x = torch.arange(1,8)\n",
        "print(f'Orginal shape {x.shape}')\n",
        "print(f'unsqeezed shape at dim=0 : {x.unsqueeze(dim=0)} , shape -  {x.unsqueeze(dim=0).shape}')\n",
        "print(f'unsqeezed shape at dim=1 : {x.unsqueeze(dim=1)} , shape - {x.unsqueeze(dim=1).shape}')\n",
        "print(f'unsqeezed shape at dim=1 : {x.unsqueeze(dim=0).unsqueeze(dim=1)} , shape - {x.unsqueeze(dim=0).unsqueeze(dim=1).shape}')\n",
        "\n",
        "print('--------------------------------')\n",
        "\n"
      ],
      "metadata": {
        "id": "G-YucORglMWM",
        "colab": {
          "base_uri": "https://localhost:8080/"
        },
        "outputId": "57556592-c026-4a0f-c388-01e2bcdabc45"
      },
      "execution_count": 11,
      "outputs": [
        {
          "output_type": "stream",
          "name": "stdout",
          "text": [
            "Orginal shape torch.Size([7])\n",
            "unsqeezed shape at dim=0 : tensor([[1, 2, 3, 4, 5, 6, 7]]) , shape -  torch.Size([1, 7])\n",
            "unsqeezed shape at dim=1 : tensor([[1],\n",
            "        [2],\n",
            "        [3],\n",
            "        [4],\n",
            "        [5],\n",
            "        [6],\n",
            "        [7]]) , shape - torch.Size([7, 1])\n",
            "unsqeezed shape at dim=1 : tensor([[[1, 2, 3, 4, 5, 6, 7]]]) , shape - torch.Size([1, 1, 7])\n",
            "--------------------------------\n"
          ]
        }
      ]
    },
    {
      "cell_type": "code",
      "source": [
        "import torch\n",
        "\n",
        "t = torch.arange(1,9)\n",
        "print(f'tensor : {t}')\n",
        "print(f'Reshaped tensor : {t.reshape(2,4)}')\n",
        "print(f'Unsqueezed tensor : {t.unsqueeze(dim=0)}')\n",
        "print(f'Tensor view at shape 2,4 : {t.view(2,4)}')\n",
        "ut = t.unsqueeze(dim=0)\n",
        "print(f'Unsqeezed tensor :  {ut}')"
      ],
      "metadata": {
        "colab": {
          "base_uri": "https://localhost:8080/"
        },
        "id": "jYVseDY2q8OU",
        "outputId": "88395899-42c6-4a02-f5b9-86ff3cbf4113"
      },
      "execution_count": 29,
      "outputs": [
        {
          "output_type": "stream",
          "name": "stdout",
          "text": [
            "tensor : tensor([1, 2, 3, 4, 5, 6, 7, 8])\n",
            "Reshaped tensor : tensor([[1, 2, 3, 4],\n",
            "        [5, 6, 7, 8]])\n",
            "Unsqueezed tensor : tensor([[1, 2, 3, 4, 5, 6, 7, 8]])\n",
            "Tensor view at shape 2,4 : tensor([[1, 2, 3, 4],\n",
            "        [5, 6, 7, 8]])\n",
            "Unsqeezed tensor :  tensor([[1, 2, 3, 4, 5, 6, 7, 8]])\n"
          ]
        }
      ]
    },
    {
      "cell_type": "code",
      "source": [
        "c = torch.arange(0,24)\n",
        "c = c.reshape(2,3,4)\n",
        "print(c.shape)\n",
        "print(c.dim())\n",
        "print(c)\n",
        "c[:,:,:2] = 0\n",
        "print('----------------------------------')\n",
        "c"
      ],
      "metadata": {
        "colab": {
          "base_uri": "https://localhost:8080/"
        },
        "id": "gEF6eOWtqSNC",
        "outputId": "f55f7e6e-a1df-4ded-af5a-fb70c35660c1"
      },
      "execution_count": 59,
      "outputs": [
        {
          "output_type": "stream",
          "name": "stdout",
          "text": [
            "torch.Size([2, 3, 4])\n",
            "3\n",
            "tensor([[[ 0,  1,  2,  3],\n",
            "         [ 4,  5,  6,  7],\n",
            "         [ 8,  9, 10, 11]],\n",
            "\n",
            "        [[12, 13, 14, 15],\n",
            "         [16, 17, 18, 19],\n",
            "         [20, 21, 22, 23]]])\n",
            "----------------------------------\n"
          ]
        },
        {
          "output_type": "execute_result",
          "data": {
            "text/plain": [
              "tensor([[[ 0,  0,  2,  3],\n",
              "         [ 0,  0,  6,  7],\n",
              "         [ 0,  0, 10, 11]],\n",
              "\n",
              "        [[ 0,  0, 14, 15],\n",
              "         [ 0,  0, 18, 19],\n",
              "         [ 0,  0, 22, 23]]])"
            ]
          },
          "metadata": {},
          "execution_count": 59
        }
      ]
    },
    {
      "cell_type": "code",
      "source": [
        "t = torch.arange(1,8)\n",
        "print(f'Dim 0 stack {torch.stack([t,t,t,t],dim=0)}')\n",
        "print(f'Dim 1 stack {torch.stack([t,t,t,t],dim=1)}')\n"
      ],
      "metadata": {
        "colab": {
          "base_uri": "https://localhost:8080/"
        },
        "id": "rjGPaeCU1nVR",
        "outputId": "4fc3d917-e7a5-46f1-fab8-f3c1532082e7"
      },
      "execution_count": 64,
      "outputs": [
        {
          "output_type": "stream",
          "name": "stdout",
          "text": [
            "Dim 0 stack tensor([[1, 2, 3, 4, 5, 6, 7],\n",
            "        [1, 2, 3, 4, 5, 6, 7],\n",
            "        [1, 2, 3, 4, 5, 6, 7],\n",
            "        [1, 2, 3, 4, 5, 6, 7]])\n",
            "Dim 1 stack tensor([[1, 1, 1, 1],\n",
            "        [2, 2, 2, 2],\n",
            "        [3, 3, 3, 3],\n",
            "        [4, 4, 4, 4],\n",
            "        [5, 5, 5, 5],\n",
            "        [6, 6, 6, 6],\n",
            "        [7, 7, 7, 7]])\n"
          ]
        }
      ]
    },
    {
      "cell_type": "code",
      "source": [
        "t = torch.arange(0,12)\n",
        "t1 = t.reshape(3,4)\n",
        "dim0 = torch.stack([t1,t1],dim = 0)\n",
        "print(dim0, dim0.shape)\n",
        "print('--------------------------------')\n",
        "dim1 = torch.stack([t1,t1],dim = 1)\n",
        "print(dim1,dim1.shape)\n",
        "print('--------------------------------')\n",
        "dim1 = torch.stack([t1,t1],dim = 2)\n",
        "print(dim1,dim1.shape)"
      ],
      "metadata": {
        "colab": {
          "base_uri": "https://localhost:8080/"
        },
        "id": "bweR7W8K7j8u",
        "outputId": "873dea54-5a1d-4d17-ac05-83746cc6b7cf"
      },
      "execution_count": 68,
      "outputs": [
        {
          "output_type": "stream",
          "name": "stdout",
          "text": [
            "tensor([[[ 0,  1,  2,  3],\n",
            "         [ 4,  5,  6,  7],\n",
            "         [ 8,  9, 10, 11]],\n",
            "\n",
            "        [[ 0,  1,  2,  3],\n",
            "         [ 4,  5,  6,  7],\n",
            "         [ 8,  9, 10, 11]]]) torch.Size([2, 3, 4])\n",
            "--------------------------------\n",
            "tensor([[[ 0,  1,  2,  3],\n",
            "         [ 0,  1,  2,  3]],\n",
            "\n",
            "        [[ 4,  5,  6,  7],\n",
            "         [ 4,  5,  6,  7]],\n",
            "\n",
            "        [[ 8,  9, 10, 11],\n",
            "         [ 8,  9, 10, 11]]]) torch.Size([3, 2, 4])\n",
            "--------------------------------\n",
            "tensor([[[ 0,  0],\n",
            "         [ 1,  1],\n",
            "         [ 2,  2],\n",
            "         [ 3,  3]],\n",
            "\n",
            "        [[ 4,  4],\n",
            "         [ 5,  5],\n",
            "         [ 6,  6],\n",
            "         [ 7,  7]],\n",
            "\n",
            "        [[ 8,  8],\n",
            "         [ 9,  9],\n",
            "         [10, 10],\n",
            "         [11, 11]]]) torch.Size([3, 4, 2])\n"
          ]
        }
      ]
    },
    {
      "cell_type": "markdown",
      "source": [
        "### **Tensors with Numpy**"
      ],
      "metadata": {
        "id": "jEehGvzr-fip"
      }
    },
    {
      "cell_type": "code",
      "source": [
        "import numpy as np\n",
        "import torch\n",
        "\n",
        "ar = np.arange(2,3)\n",
        "print(f' {ar}')\n",
        "ar = torch.from_numpy(ar)\n",
        "print(f' {ar}')\n",
        "print(f' {ar.numpy()}')"
      ],
      "metadata": {
        "colab": {
          "base_uri": "https://localhost:8080/"
        },
        "id": "LOY5CPgx-Niu",
        "outputId": "ff110f64-ed5a-4d63-bcf2-2e32e0709232"
      },
      "execution_count": 72,
      "outputs": [
        {
          "output_type": "stream",
          "name": "stdout",
          "text": [
            " [2]\n",
            " tensor([2])\n",
            " [2]\n"
          ]
        }
      ]
    },
    {
      "cell_type": "markdown",
      "source": [
        "### **Reproducibility - (trying seed random)**"
      ],
      "metadata": {
        "id": "_GM3PyPBDm9_"
      }
    },
    {
      "cell_type": "code",
      "source": [
        "import torch\n",
        "\n",
        "r1 = torch.rand(3,4)\n",
        "r2 = torch.rand(3,4)\n",
        "print(r1)\n",
        "print(r2)\n",
        "print(r1==r2)\n",
        "print('_________________________')\n",
        "\n",
        "torch.manual_seed(seed=23)\n",
        "\n",
        "r1 = torch.rand(3,4)\n",
        "\n",
        "torch.manual_seed(seed=23)\n",
        "r2 = torch.rand(3,4)\n",
        "print(r1)\n",
        "print(r2)\n",
        "print(r1==r2)\n"
      ],
      "metadata": {
        "colab": {
          "base_uri": "https://localhost:8080/"
        },
        "id": "jxqZG9g2Dl-_",
        "outputId": "8f93bd0e-17f4-47f7-e717-e12873ad6b68"
      },
      "execution_count": 79,
      "outputs": [
        {
          "output_type": "stream",
          "name": "stdout",
          "text": [
            "tensor([[0.5466, 0.0213, 0.9049, 0.8444],\n",
            "        [0.9330, 0.2950, 0.4773, 0.4787],\n",
            "        [0.3440, 0.6732, 0.6593, 0.1879]])\n",
            "tensor([[0.4546, 0.1049, 0.7112, 0.7709],\n",
            "        [0.5514, 0.0807, 0.3029, 0.7935],\n",
            "        [0.2823, 0.5686, 0.1354, 0.4224]])\n",
            "tensor([[False, False, False, False],\n",
            "        [False, False, False, False],\n",
            "        [False, False, False, False]])\n",
            "_________________________\n",
            "tensor([[0.4283, 0.2889, 0.4224, 0.3571],\n",
            "        [0.9577, 0.1100, 0.2933, 0.9205],\n",
            "        [0.5876, 0.1299, 0.6729, 0.1028]])\n",
            "tensor([[0.4283, 0.2889, 0.4224, 0.3571],\n",
            "        [0.9577, 0.1100, 0.2933, 0.9205],\n",
            "        [0.5876, 0.1299, 0.6729, 0.1028]])\n",
            "tensor([[True, True, True, True],\n",
            "        [True, True, True, True],\n",
            "        [True, True, True, True]])\n"
          ]
        }
      ]
    },
    {
      "cell_type": "code",
      "source": [
        "import torch\n",
        "tr = torch.rand(2,3)\n",
        "print(f'GPU device count :  {torch.cuda.device_count()}')\n",
        "print(f'Is GPU available : {torch.cuda.is_available()}')\n",
        "tr = tr.to('cuda')\n",
        "tr"
      ],
      "metadata": {
        "colab": {
          "base_uri": "https://localhost:8080/"
        },
        "id": "6aRMf_7nhO9_",
        "outputId": "d51541d6-c3f1-49e5-8e5a-051b5512265c"
      },
      "execution_count": 12,
      "outputs": [
        {
          "output_type": "stream",
          "name": "stdout",
          "text": [
            "GPU device count :  1\n",
            "Is GPU available : True\n"
          ]
        },
        {
          "output_type": "execute_result",
          "data": {
            "text/plain": [
              "tensor([[0.3749, 0.8229, 0.5056],\n",
              "        [0.6932, 0.0452, 0.2679]], device='cuda:0')"
            ]
          },
          "metadata": {},
          "execution_count": 12
        }
      ]
    },
    {
      "cell_type": "code",
      "source": [],
      "metadata": {
        "colab": {
          "base_uri": "https://localhost:8080/"
        },
        "id": "367voD1EDjUN",
        "outputId": "a607e796-c0b8-4ead-b6e8-577ed431ae06"
      },
      "execution_count": 11,
      "outputs": [
        {
          "output_type": "execute_result",
          "data": {
            "text/plain": [
              "tensor([[0.7836, 0.2809, 0.9722],\n",
              "        [0.8046, 0.0558, 0.5501]])"
            ]
          },
          "metadata": {},
          "execution_count": 11
        }
      ]
    }
  ]
}