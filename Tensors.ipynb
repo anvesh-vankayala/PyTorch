{
  "nbformat": 4,
  "nbformat_minor": 0,
  "metadata": {
    "colab": {
      "provenance": [],
      "authorship_tag": "ABX9TyOblsDtoHfVWshtDr/NldJt",
      "include_colab_link": true
    },
    "kernelspec": {
      "name": "python3",
      "display_name": "Python 3"
    },
    "language_info": {
      "name": "python"
    }
  },
  "cells": [
    {
      "cell_type": "markdown",
      "metadata": {
        "id": "view-in-github",
        "colab_type": "text"
      },
      "source": [
        "<a href=\"https://colab.research.google.com/github/anvesh-vankayala/PyTorch/blob/main/Tensors.ipynb\" target=\"_parent\"><img src=\"https://colab.research.google.com/assets/colab-badge.svg\" alt=\"Open In Colab\"/></a>"
      ]
    },
    {
      "cell_type": "code",
      "execution_count": 2,
      "metadata": {
        "id": "SMfrY21OaToH",
        "colab": {
          "base_uri": "https://localhost:8080/",
          "height": 35
        },
        "outputId": "fde51a25-d79a-4b9c-f97d-89450bb82f12"
      },
      "outputs": [
        {
          "output_type": "execute_result",
          "data": {
            "text/plain": [
              "'2.1.0+cu121'"
            ],
            "application/vnd.google.colaboratory.intrinsic+json": {
              "type": "string"
            }
          },
          "metadata": {},
          "execution_count": 2
        }
      ],
      "source": [
        "import torch\n",
        "torch.__version__"
      ]
    },
    {
      "cell_type": "markdown",
      "source": [
        "**Scalar**"
      ],
      "metadata": {
        "id": "lfq9spUxdFti"
      }
    },
    {
      "cell_type": "code",
      "source": [
        "## Scalar is just a single number\n",
        "scalar = torch.tensor(7)\n",
        "print('n dimension : ', scalar.ndim)\n",
        "print('To retrive value from tensor : ', scalar.item())\n",
        "print('Just tensor : ' , scalar)"
      ],
      "metadata": {
        "colab": {
          "base_uri": "https://localhost:8080/"
        },
        "id": "RZl0Pk1qcae1",
        "outputId": "cc18dda6-5db9-48da-d2d2-aa04eeca0589"
      },
      "execution_count": 7,
      "outputs": [
        {
          "output_type": "stream",
          "name": "stdout",
          "text": [
            "shape :  0\n",
            "To retrive value from tensor :  7\n",
            "Just tensor :  tensor(7)\n"
          ]
        }
      ]
    },
    {
      "cell_type": "markdown",
      "source": [
        "**Vector**"
      ],
      "metadata": {
        "id": "KL_xPk6ld_Nj"
      }
    },
    {
      "cell_type": "code",
      "source": [
        "## Vector is a single dimension tensor\n",
        "vector = torch.tensor([2,5,6])\n",
        "print('n dimension : ', vector.ndim)\n",
        "print('shape : ', vector.shape)\n",
        "#print('To retrive value from tensor : ', vector.item())\n",
        "print('Just tensor : ' , vector)\n",
        "\n",
        "print('---------------------')\n",
        "## Matrix\n",
        "matrix  = torch.tensor([[2,4,6],[3,7,8]])\n",
        "print('ndim', matrix.ndim)\n",
        "print('shape : ', matrix.shape)\n",
        "print('dtype : ', matrix.dtype)\n",
        "print('Just tensor : ' , matrix)\n",
        "\n",
        "print('---------------------')\n",
        "\n",
        "## Random tensor\n",
        "tensors = torch.rand(size=[3,4])\n",
        "print('ndim', tensors.ndim)\n",
        "print('dtype : ', tensors.dtype)\n",
        "print('shape : ', tensors.shape)\n",
        "print('Just tensor : ' , tensors)\n",
        "\n",
        "print('---------------------')\n",
        "## Random image tensor\n",
        "rand_img = torch.rand(size= (224,224,3))\n",
        "print('ndim', rand_img.ndim)\n",
        "print('Random image tensor shape : ', rand_img.shape)\n",
        "\n",
        "print('---------------------')"
      ],
      "metadata": {
        "colab": {
          "base_uri": "https://localhost:8080/"
        },
        "id": "uuG5GLtzdYe8",
        "outputId": "23ab2798-f696-4b8b-ccd9-27fc96b0eeb5"
      },
      "execution_count": 32,
      "outputs": [
        {
          "output_type": "stream",
          "name": "stdout",
          "text": [
            "n dimension :  1\n",
            "shape :  torch.Size([3])\n",
            "Just tensor :  tensor([2, 5, 6])\n",
            "---------------------\n",
            "ndim 2\n",
            "shape :  torch.Size([2, 3])\n",
            "dtype :  torch.int64\n",
            "Just tensor :  tensor([[2, 4, 6],\n",
            "        [3, 7, 8]])\n",
            "---------------------\n",
            "ndim 2\n",
            "dtype :  torch.float32\n",
            "shape :  torch.Size([3, 4])\n",
            "Just tensor :  tensor([[0.1731, 0.0179, 0.1396, 0.7403],\n",
            "        [0.5782, 0.4061, 0.5233, 0.7060],\n",
            "        [0.9326, 0.0890, 0.6658, 0.5490]])\n",
            "---------------------\n",
            "ndim 3\n",
            "Random image tensor shape :  torch.Size([224, 224, 3])\n"
          ]
        }
      ]
    },
    {
      "cell_type": "markdown",
      "source": [
        "**Info from tensors**"
      ],
      "metadata": {
        "id": "sOl7aW_ojQdC"
      }
    },
    {
      "cell_type": "code",
      "source": [
        "tensor = torch.rand(size=[3,4])\n",
        "print(f'shape : {tensor.shape}')\n",
        "print(f'dtype : {tensor.dtype}')\n",
        "print(f'device : {tensor.device}')"
      ],
      "metadata": {
        "colab": {
          "base_uri": "https://localhost:8080/"
        },
        "id": "AC4jnodregLG",
        "outputId": "6ada52ee-89a6-4e08-f716-17ea1e15f3dd"
      },
      "execution_count": 36,
      "outputs": [
        {
          "output_type": "stream",
          "name": "stdout",
          "text": [
            "shape : torch.Size([3, 4])\n",
            "dtype : torch.float32\n",
            "device : cpu\n"
          ]
        }
      ]
    },
    {
      "cell_type": "markdown",
      "source": [
        "**Manipulating** **tensors**"
      ],
      "metadata": {
        "id": "0_ow1yffkGCY"
      }
    },
    {
      "cell_type": "code",
      "source": [
        "## Addition\n",
        "\n",
        "tensor = torch.tensor([1,2,3])\n",
        "print(f'Addition : {tensor + 10}')\n",
        "print(f'Mutiplication : {tensor * 10}')\n",
        "print(f'subtraction : {tensor - 10}')\n",
        "print(f'Element wise multiplication : {tensor * tensor}')\n",
        "## Note : Tensor dosent get modified unless it is reassigned\n",
        "\n",
        "## Matrix multiplication\n",
        "## To work : this should have inner same inner diemension\n",
        "## ex shapes : If input is of shape (3,2)@(2,4) , then output would be of (3,3)\n",
        "\n",
        "print(f'Matrix multiplication : {torch.matmul(tensor,tensor)}')\n",
        "print(f'with @ Matrix multiplication : {tensor@tensor}')\n",
        "\n",
        "print('---------------------------')\n",
        "\n",
        "## Matrix transpose\n",
        "## If there is any issue with inner shape of tensor,  with this we can switch the shape of tensor.\n",
        "ran_tensor = torch.rand(4,5)\n",
        "print(f'shape {ran_tensor.shape}')\n",
        "print(f'Transposed tensor {ran_tensor.T.shape}')\n",
        "print(f'Matrix multiplication \\n {ran_tensor@ran_tensor.T} , of shape {(ran_tensor@ran_tensor.T).shape}')\n",
        "\n",
        "print('---------------------------')"
      ],
      "metadata": {
        "colab": {
          "base_uri": "https://localhost:8080/"
        },
        "id": "UgXUGts9kJy8",
        "outputId": "43382c03-9e3d-4a22-b5db-a5aa28e15051"
      },
      "execution_count": 54,
      "outputs": [
        {
          "output_type": "stream",
          "name": "stdout",
          "text": [
            "Addition : tensor([11, 12, 13])\n",
            "Mutiplication : tensor([10, 20, 30])\n",
            "subtraction : tensor([-9, -8, -7])\n",
            "Element wise multiplication : tensor([1, 4, 9])\n",
            "Matrix multiplication : 14\n",
            "with @ Matrix multiplication : 14\n",
            "---------------------------\n",
            "shape torch.Size([4, 5])\n",
            "Transposed tensor torch.Size([5, 4])\n",
            "Matrix multiplication \n",
            " tensor([[1.1932, 1.0361, 1.1386, 0.6359],\n",
            "        [1.0361, 1.0858, 1.3844, 0.5157],\n",
            "        [1.1386, 1.3844, 2.8023, 1.3477],\n",
            "        [0.6359, 0.5157, 1.3477, 1.1961]]) , of shape torch.Size([4, 4])\n"
          ]
        }
      ]
    },
    {
      "cell_type": "code",
      "source": [],
      "metadata": {
        "id": "G-YucORglMWM"
      },
      "execution_count": null,
      "outputs": []
    }
  ]
}